{
 "cells": [
  {
   "cell_type": "code",
   "execution_count": null,
   "metadata": {},
   "outputs": [],
   "source": [
    "%load_ext autoreload\n",
    "%autoreload 2"
   ]
  },
  {
   "cell_type": "code",
   "execution_count": 34,
   "metadata": {},
   "outputs": [],
   "source": [
    "import sys\n",
    "sys.path.append('../pipeline/src')\n",
    "\n",
    "import pandas as pd\n",
    "import numpy as np\n",
    "from datamodules.paired_dataset import PairedDataset\n",
    "from datamodules.paired_datamodule import PairedProteinDataModule, PairedProteinDataModuleConfig\n",
    "from datamodules.datamodule import ProteinDataModuleConfig, SamplingConfig, ProteinDataModule\n",
    "from tqdm import tqdm\n",
    "import seaborn as sns\n",
    "import matplotlib.pyplot as plt\n",
    "\n",
    "\n",
    "\n",
    "\n",
    "\n",
    "\n",
    "\n",
    "\n"
   ]
  },
  {
   "cell_type": "code",
   "execution_count": 35,
   "metadata": {},
   "outputs": [],
   "source": [
    "# Create paired dataset from DataFrames\n",
    "import pandas as pd\n",
    "\n",
    "train_dataset_path = '../pipeline/output/datasets/train.pt'\n",
    "val_dataset_path = '../pipeline/output/datasets/val.pt'\n",
    "test_dataset_path = '../pipeline/output/datasets/test.pt'\n",
    "similarity_file_path = '../pipeline/output/mmseqs/all_seqs_similarity.tsv'\n",
    "cluster_path = '../pipeline/output/mmseqs/all_seqs_clust.tsv'\n"
   ]
  },
  {
   "cell_type": "code",
   "execution_count": null,
   "metadata": {},
   "outputs": [],
   "source": [
    "\n",
    "sampling_conf = SamplingConfig(\n",
    "    cluster_path=cluster_path,\n",
    "    train_n_pdb=1.0,\n",
    "    train_intersect_val_clusters=True,\n",
    "    train_intersect_test_clusters=True,\n",
    "    val_n_pdb=1.0,\n",
    "    test_n_pdb=1.0,\n",
    "    train_max_chains_per_pdb=1,\n",
    "    val_max_chains_per_pdb=1,\n",
    "    test_max_chains_per_pdb=1,\n",
    ")\n",
    "paired_datamodule_config = PairedProteinDataModuleConfig(\n",
    "    _target_=\"pipeline.src.datamodules.paired_datamodule.PairedProteinDataModuleConfig\",\n",
    "    name=\"paired_datamodule\",\n",
    "    train_dataset_path=train_dataset_path,\n",
    "    val_dataset_path=val_dataset_path,\n",
    "    test_dataset_path=test_dataset_path,\n",
    "    tokenizer_name=\"facebook/esm2_t33_650M_UR50D\",\n",
    "    batch_size=1,\n",
    "    num_workers=1,\n",
    "    max_seq_length=1024,\n",
    "    contact_threshold=8.0,\n",
    "    sampler=sampling_conf,\n",
    "    similarity_file_path=similarity_file_path,\n",
    "    min_similarity_threshold=0.3,\n",
    ")\n",
    "\n",
    "paired_datamodule = PairedProteinDataModule(paired_datamodule_config)\n",
    "paired_datamodule.setup()\n",
    "\n",
    "\n"
   ]
  },
  {
   "cell_type": "code",
   "execution_count": null,
   "metadata": {},
   "outputs": [],
   "source": [
    "for i, batch in tqdm(enumerate(paired_datamodule.train_dataloader())):\n",
    "    print(f\"OUR BATCH {i}\")\n",
    "    # print(batch)\n",
    "    if i>10:\n",
    "        break"
   ]
  },
  {
   "cell_type": "code",
   "execution_count": null,
   "metadata": {},
   "outputs": [],
   "source": [
    "batch['metadata']"
   ]
  },
  {
   "cell_type": "code",
   "execution_count": null,
   "metadata": {},
   "outputs": [],
   "source": [
    "batch['primary_sequence']['metadata'], batch['similar_sequence']['metadata'], batch['similarity_score']"
   ]
  },
  {
   "cell_type": "code",
   "execution_count": null,
   "metadata": {},
   "outputs": [],
   "source": [
    "df_similarity = paired_datamodule.load_similarity_df(similarity_file_path)"
   ]
  },
  {
   "cell_type": "code",
   "execution_count": null,
   "metadata": {},
   "outputs": [],
   "source": [
    "df_similarity[df_similarity[\"query_id\"] == batch[\"primary_sequence\"]['metadata'][0]['id']]"
   ]
  },
  {
   "cell_type": "code",
   "execution_count": 25,
   "metadata": {},
   "outputs": [],
   "source": [
    "train_similarities = [item['similarity_score'] for item in paired_datamodule.train_dataset]\n",
    "test_similarities = [item['similarity_score'] for item in paired_datamodule.test_dataset]\n",
    "val_similarities = [item['similarity_score'] for item in paired_datamodule.val_dataset]"
   ]
  },
  {
   "cell_type": "code",
   "execution_count": null,
   "metadata": {},
   "outputs": [],
   "source": [
    "sns.histplot(train_similarities)\n",
    "plt.title(\"Train similarities\")\n",
    "plt.show()\n",
    "sns.histplot(test_similarities)\n",
    "plt.title(\"Test similarities\")\n",
    "plt.show()\n",
    "sns.histplot(val_similarities)\n",
    "plt.title(\"Val similarities\")\n",
    "plt.show()"
   ]
  },
  {
   "cell_type": "code",
   "execution_count": null,
   "metadata": {},
   "outputs": [],
   "source": []
  }
 ],
 "metadata": {
  "kernelspec": {
   "display_name": "main",
   "language": "python",
   "name": "python3"
  },
  "language_info": {
   "codemirror_mode": {
    "name": "ipython",
    "version": 3
   },
   "file_extension": ".py",
   "mimetype": "text/x-python",
   "name": "python",
   "nbconvert_exporter": "python",
   "pygments_lexer": "ipython3",
   "version": "3.12.3"
  }
 },
 "nbformat": 4,
 "nbformat_minor": 2
}
